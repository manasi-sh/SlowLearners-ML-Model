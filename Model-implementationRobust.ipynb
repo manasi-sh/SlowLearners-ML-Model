{
 "cells": [
  {
   "cell_type": "markdown",
   "metadata": {},
   "source": [
    "# Train and Dump Model -Pipline "
   ]
  },
  {
   "cell_type": "code",
   "execution_count": 1,
   "metadata": {},
   "outputs": [],
   "source": [
    "from sklearn.svm import SVC\n",
    "from sklearn.model_selection import train_test_split\n",
    "import numpy as np\n",
    "import pandas as pd\n",
    "from sklearn.model_selection import GridSearchCV\n",
    "from sklearn.ensemble import RandomForestClassifier\n",
    "import seaborn as sns\n",
    "import matplotlib.pyplot as plt\n",
    "from sklearn.preprocessing import StandardScaler\n",
    "from sklearn.metrics import f1_score\n",
    "from sklearn.metrics import precision_recall_fscore_support\n",
    "%matplotlib inline"
   ]
  },
  {
   "cell_type": "code",
   "execution_count": 2,
   "metadata": {},
   "outputs": [],
   "source": [
    "data=pd.read_csv('labelled_data_new.csv')\n",
    "y=data.Label\n",
    "X=data.drop(['Label'],axis=1)\n"
   ]
  },
  {
   "cell_type": "code",
   "execution_count": 3,
   "metadata": {},
   "outputs": [],
   "source": [
    "X_train,X_test,y_train,y_test=train_test_split(X,y,test_size=0.7,random_state=10)"
   ]
  },
  {
   "cell_type": "code",
   "execution_count": 4,
   "metadata": {},
   "outputs": [],
   "source": [
    "X_test2=X_test.copy()"
   ]
  },
  {
   "cell_type": "code",
   "execution_count": 5,
   "metadata": {},
   "outputs": [
    {
     "data": {
      "text/plain": [
       "array([[-0.34038599,  0.11560035,  0.63822535,  1.14716531,  0.62539939,\n",
       "         0.52455605],\n",
       "       [ 2.16245217,  0.57191753, -0.26068359,  0.19384234,  0.12905067,\n",
       "         0.52455605],\n",
       "       [ 0.16018164,  0.11560035,  0.18877088, -1.23614212, -0.36729805,\n",
       "         0.06709438],\n",
       "       ...,\n",
       "       [ 0.16018164, -0.34071682, -0.26068359,  2.10048828,  0.62539939,\n",
       "         0.52455605],\n",
       "       [-0.34038599,  1.0282347 ,  1.98658875,  0.19384234, -0.36729805,\n",
       "        -0.39036729],\n",
       "       [ 0.16018164,  1.94086905,  1.08767981,  1.62382679,  1.61809683,\n",
       "        -0.39036729]])"
      ]
     },
     "execution_count": 5,
     "metadata": {},
     "output_type": "execute_result"
    }
   ],
   "source": [
    "sc=StandardScaler(copy=False)\n",
    "sc.fit_transform(X_train)\n",
    "sc.transform(X_test)"
   ]
  },
  {
   "cell_type": "code",
   "execution_count": 6,
   "metadata": {},
   "outputs": [
    {
     "name": "stdout",
     "output_type": "stream",
     "text": [
      "Best parameters set found on development set:\n",
      "{'C': 1000, 'gamma': 0.001, 'kernel': 'rbf'}\n"
     ]
    }
   ],
   "source": [
    "clf3 = SVC(probability=True)\n",
    "tuned_parameters = [{'kernel': ['rbf'], 'gamma': [1e-3, 1e-4],\n",
    "                     'C': [1, 10, 100, 1000]},\n",
    "                    {'kernel': ['linear'], 'C': [1, 10, 100, 1000]}]\n",
    "clf3 = GridSearchCV(SVC(), tuned_parameters,scoring='f1_macro')\n",
    "clf3.fit(X_train, y_train)\n",
    "print(\"Best parameters set found on development set:\")\n",
    "print(clf3.best_params_)"
   ]
  },
  {
   "cell_type": "code",
   "execution_count": 7,
   "metadata": {},
   "outputs": [
    {
     "name": "stdout",
     "output_type": "stream",
     "text": [
      "0.234 for {'C': 1, 'gamma': 0.001, 'kernel': 'rbf'}\n",
      "0.234 for {'C': 1, 'gamma': 0.0001, 'kernel': 'rbf'}\n",
      "0.909 for {'C': 10, 'gamma': 0.001, 'kernel': 'rbf'}\n",
      "0.234 for {'C': 10, 'gamma': 0.0001, 'kernel': 'rbf'}\n",
      "0.947 for {'C': 100, 'gamma': 0.001, 'kernel': 'rbf'}\n",
      "0.909 for {'C': 100, 'gamma': 0.0001, 'kernel': 'rbf'}\n",
      "0.953 for {'C': 1000, 'gamma': 0.001, 'kernel': 'rbf'}\n",
      "0.947 for {'C': 1000, 'gamma': 0.0001, 'kernel': 'rbf'}\n",
      "0.942 for {'C': 1, 'kernel': 'linear'}\n",
      "0.941 for {'C': 10, 'kernel': 'linear'}\n",
      "0.930 for {'C': 100, 'kernel': 'linear'}\n",
      "0.930 for {'C': 1000, 'kernel': 'linear'}\n"
     ]
    }
   ],
   "source": [
    "means = clf3.cv_results_['mean_test_score']\n",
    "for mean, params in zip(means, clf3.cv_results_['params']):\n",
    "        print(\"%0.3f for %r\"% (mean, params))"
   ]
  },
  {
   "cell_type": "code",
   "execution_count": 8,
   "metadata": {},
   "outputs": [
    {
     "name": "stdout",
     "output_type": "stream",
     "text": [
      "Gridsearch with SVM - Precision = 0.919, Recall = 0.949, F1-score = 0.933\n"
     ]
    }
   ],
   "source": [
    "pre3=clf3.predict(X_test)\n",
    "# prec[2],rec[2],f1[2],_=precision_recall_fscore_support(y_test,pre3,average='macro')\n",
    "precision, recall, f1, _ = precision_recall_fscore_support(y_test, pre3, average='macro')\n",
    "# print(\"Gridsearch with SVM - Precision = %0.3f, Recall = %0.3f, F1-score = %0.3f\" %(prec[2],rec[2],f1[2]))\n",
    "print(\"Gridsearch with SVM - Precision = %0.3f, Recall = %0.3f, F1-score = %0.3f\" % (precision, recall, f1))"
   ]
  },
  {
   "cell_type": "code",
   "execution_count": 9,
   "metadata": {},
   "outputs": [],
   "source": [
    "from sklearn.metrics import classification_report\n"
   ]
  },
  {
   "cell_type": "code",
   "execution_count": 10,
   "metadata": {},
   "outputs": [
    {
     "name": "stdout",
     "output_type": "stream",
     "text": [
      "              precision    recall  f1-score   support\n",
      "\n",
      "     class 0       0.87      0.98      0.92        41\n",
      "     class 1       0.96      0.92      0.94       192\n",
      "     class 2       0.93      0.95      0.94       117\n",
      "\n",
      "    accuracy                           0.94       350\n",
      "   macro avg       0.92      0.95      0.93       350\n",
      "weighted avg       0.94      0.94      0.94       350\n",
      "\n"
     ]
    }
   ],
   "source": [
    "target_names = ['class 0', 'class 1', 'class 2']\n",
    "print(classification_report(y_test, pre3, target_names=target_names))\n",
    " "
   ]
  },
  {
   "cell_type": "code",
   "execution_count": 11,
   "metadata": {},
   "outputs": [],
   "source": [
    "from sklearn.svm import SVC\n",
    "from sklearn.preprocessing import StandardScaler\n",
    "from sklearn.pipeline import Pipeline\n",
    "# from sklearn.externals import joblib\n",
    "import joblib\n",
    "\n"
   ]
  },
  {
   "cell_type": "code",
   "execution_count": 12,
   "metadata": {},
   "outputs": [],
   "source": [
    "pipe = Pipeline([('scaler', StandardScaler()), ('svc', SVC (C=1000,gamma=0.001, kernel='rbf'))])\n"
   ]
  },
  {
   "cell_type": "code",
   "execution_count": 13,
   "metadata": {},
   "outputs": [
    {
     "data": {
      "text/plain": [
       "0.9371428571428572"
      ]
     },
     "execution_count": 13,
     "metadata": {},
     "output_type": "execute_result"
    }
   ],
   "source": [
    "pipe.fit(X_train, y_train)\n",
    "\n",
    "pipe.score(X_test, y_test)"
   ]
  },
  {
   "cell_type": "code",
   "execution_count": 14,
   "metadata": {},
   "outputs": [
    {
     "data": {
      "text/plain": [
       "['transform_predict.joblib']"
      ]
     },
     "execution_count": 14,
     "metadata": {},
     "output_type": "execute_result"
    }
   ],
   "source": [
    "joblib.dump(pipe, 'my_model.joblib')"
   ]
  },
  {
   "cell_type": "code",
   "execution_count": 15,
   "metadata": {},
   "outputs": [],
   "source": [
    "pipeline = joblib.load('my_model.joblib') \n"
   ]
  },
  {
   "cell_type": "code",
   "execution_count": 16,
   "metadata": {},
   "outputs": [],
   "source": [
    "predictions = pipeline.predict(X_test)"
   ]
  },
  {
   "cell_type": "code",
   "execution_count": 17,
   "metadata": {},
   "outputs": [
    {
     "name": "stdout",
     "output_type": "stream",
     "text": [
      "              precision    recall  f1-score   support\n",
      "\n",
      "     class 0       0.87      0.98      0.92        41\n",
      "     class 1       0.96      0.92      0.94       192\n",
      "     class 2       0.93      0.95      0.94       117\n",
      "\n",
      "    accuracy                           0.94       350\n",
      "   macro avg       0.92      0.95      0.93       350\n",
      "weighted avg       0.94      0.94      0.94       350\n",
      "\n"
     ]
    }
   ],
   "source": [
    "target_names = ['class 0', 'class 1', 'class 2']\n",
    "print(classification_report(y_test, predictions, target_names=target_names))\n",
    " "
   ]
  },
  {
   "cell_type": "code",
   "execution_count": 18,
   "metadata": {},
   "outputs": [
    {
     "data": {
      "text/plain": [
       "1.0"
      ]
     },
     "execution_count": 18,
     "metadata": {},
     "output_type": "execute_result"
    }
   ],
   "source": [
    "predictions[0]"
   ]
  },
  {
   "cell_type": "code",
   "execution_count": 20,
   "metadata": {},
   "outputs": [
    {
     "data": {
      "text/plain": [
       "['my_model.joblib']"
      ]
     },
     "execution_count": 20,
     "metadata": {},
     "output_type": "execute_result"
    }
   ],
   "source": [
    "import joblib\n",
    "\n",
    "# Specify the filename for your model\n",
    "model_filename = \"my_model.joblib\"\n",
    "\n",
    "# Save the model using Joblib\n",
    "joblib.dump(clf3, model_filename)"
   ]
  }
 ],
 "metadata": {
  "kernelspec": {
   "display_name": "Python 3",
   "language": "python",
   "name": "python3"
  },
  "language_info": {
   "codemirror_mode": {
    "name": "ipython",
    "version": 3
   },
   "file_extension": ".py",
   "mimetype": "text/x-python",
   "name": "python",
   "nbconvert_exporter": "python",
   "pygments_lexer": "ipython3",
   "version": "3.10.7"
  }
 },
 "nbformat": 4,
 "nbformat_minor": 4
}
